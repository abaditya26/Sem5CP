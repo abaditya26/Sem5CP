{
 "cells": [
  {
   "cell_type": "markdown",
   "metadata": {},
   "source": [
    "* How likely am I to subscribe a term deposit?\n",
    "\n",
    "* Experimenting of variables selection techniques.\n",
    "\n",
    "* Explorations of the variables so serves as a good example of Exploratory Data Analysis and how that can guide the model creation and selection process."
   ]
  },
  {
   "cell_type": "code",
   "execution_count": 22,
   "metadata": {},
   "outputs": [],
   "source": [
    "import pandas as pd\n",
    "import numpy as np\n",
    "import seaborn as sns\n",
    "import matplotlib.pyplot as plt\n",
    "import pymc3 as pm\n",
    "import arviz as az\n",
    "import matplotlib.lines as mlines\n",
    "import warnings\n",
    "warnings.filterwarnings('ignore')\n",
    "from collections import OrderedDict\n",
    "import theano\n",
    "import theano.tensor as tt\n",
    "import itertools\n",
    "from IPython.core.pylabtools import figsize\n",
    "pd.set_option('display.max_columns', 30)\n",
    "from sklearn.metrics import accuracy_score, f1_score, confusion_matrix"
   ]
  },
  {
   "cell_type": "code",
   "execution_count": 23,
   "metadata": {},
   "outputs": [],
   "source": [
    "df = pd.read_csv('banking.csv')"
   ]
  },
  {
   "cell_type": "code",
   "execution_count": 24,
   "metadata": {},
   "outputs": [
    {
     "data": {
      "text/plain": "       age          job  marital            education  default housing loan  \\\n0       56    housemaid  married             basic.4y       no      no   no   \n1       57     services  married          high.school  unknown      no   no   \n2       37     services  married          high.school       no     yes   no   \n3       40       admin.  married             basic.6y       no      no   no   \n4       56     services  married          high.school       no      no  yes   \n...    ...          ...      ...                  ...      ...     ...  ...   \n41183   73      retired  married  professional.course       no     yes   no   \n41184   46  blue-collar  married  professional.course       no      no   no   \n41185   56      retired  married    university.degree       no     yes   no   \n41186   44   technician  married  professional.course       no      no   no   \n41187   74      retired  married  professional.course       no     yes   no   \n\n         contact month day_of_week     duration     campaign  \\\n0      telephone   may         mon          261            1   \n1      telephone   may         mon          149            1   \n2      telephone   may         mon          226            1   \n3      telephone   may         mon          151            1   \n4      telephone   may         mon          307            1   \n...          ...   ...         ...          ...          ...   \n41183   cellular   nov         fri  334;1;999;0  nonexistent   \n41184   cellular   nov         fri  383;1;999;0  nonexistent   \n41185   cellular   nov         fri  189;2;999;0  nonexistent   \n41186   cellular   nov         fri  442;1;999;0  nonexistent   \n41187   cellular   nov         fri  239;3;999;1      failure   \n\n                                pdays previous     poutcome  emp.var.rate  \\\n0                                 999        0  nonexistent           1.1   \n1                                 999        0  nonexistent           1.1   \n2                                 999        0  nonexistent           1.1   \n3                                 999        0  nonexistent           1.1   \n4                                 999        0  nonexistent           1.1   \n...                               ...      ...          ...           ...   \n41183  -1.1;94.767;-50.8;1.028;4963.6      yes          NaN           NaN   \n41184  -1.1;94.767;-50.8;1.028;4963.6       no          NaN           NaN   \n41185  -1.1;94.767;-50.8;1.028;4963.6       no          NaN           NaN   \n41186  -1.1;94.767;-50.8;1.028;4963.6      yes          NaN           NaN   \n41187  -1.1;94.767;-50.8;1.028;4963.6       no          NaN           NaN   \n\n       cons.price.idx  cons.conf.idx  euribor3m  nr.employed    y  \n0              93.994          -36.4      4.857       5191.0   no  \n1              93.994          -36.4      4.857       5191.0   no  \n2              93.994          -36.4      4.857       5191.0   no  \n3              93.994          -36.4      4.857       5191.0   no  \n4              93.994          -36.4      4.857       5191.0   no  \n...               ...            ...        ...          ...  ...  \n41183             NaN            NaN        NaN          NaN  NaN  \n41184             NaN            NaN        NaN          NaN  NaN  \n41185             NaN            NaN        NaN          NaN  NaN  \n41186             NaN            NaN        NaN          NaN  NaN  \n41187             NaN            NaN        NaN          NaN  NaN  \n\n[41188 rows x 21 columns]",
      "text/html": "<div>\n<style scoped>\n    .dataframe tbody tr th:only-of-type {\n        vertical-align: middle;\n    }\n\n    .dataframe tbody tr th {\n        vertical-align: top;\n    }\n\n    .dataframe thead th {\n        text-align: right;\n    }\n</style>\n<table border=\"1\" class=\"dataframe\">\n  <thead>\n    <tr style=\"text-align: right;\">\n      <th></th>\n      <th>age</th>\n      <th>job</th>\n      <th>marital</th>\n      <th>education</th>\n      <th>default</th>\n      <th>housing</th>\n      <th>loan</th>\n      <th>contact</th>\n      <th>month</th>\n      <th>day_of_week</th>\n      <th>duration</th>\n      <th>campaign</th>\n      <th>pdays</th>\n      <th>previous</th>\n      <th>poutcome</th>\n      <th>emp.var.rate</th>\n      <th>cons.price.idx</th>\n      <th>cons.conf.idx</th>\n      <th>euribor3m</th>\n      <th>nr.employed</th>\n      <th>y</th>\n    </tr>\n  </thead>\n  <tbody>\n    <tr>\n      <th>0</th>\n      <td>56</td>\n      <td>housemaid</td>\n      <td>married</td>\n      <td>basic.4y</td>\n      <td>no</td>\n      <td>no</td>\n      <td>no</td>\n      <td>telephone</td>\n      <td>may</td>\n      <td>mon</td>\n      <td>261</td>\n      <td>1</td>\n      <td>999</td>\n      <td>0</td>\n      <td>nonexistent</td>\n      <td>1.1</td>\n      <td>93.994</td>\n      <td>-36.4</td>\n      <td>4.857</td>\n      <td>5191.0</td>\n      <td>no</td>\n    </tr>\n    <tr>\n      <th>1</th>\n      <td>57</td>\n      <td>services</td>\n      <td>married</td>\n      <td>high.school</td>\n      <td>unknown</td>\n      <td>no</td>\n      <td>no</td>\n      <td>telephone</td>\n      <td>may</td>\n      <td>mon</td>\n      <td>149</td>\n      <td>1</td>\n      <td>999</td>\n      <td>0</td>\n      <td>nonexistent</td>\n      <td>1.1</td>\n      <td>93.994</td>\n      <td>-36.4</td>\n      <td>4.857</td>\n      <td>5191.0</td>\n      <td>no</td>\n    </tr>\n    <tr>\n      <th>2</th>\n      <td>37</td>\n      <td>services</td>\n      <td>married</td>\n      <td>high.school</td>\n      <td>no</td>\n      <td>yes</td>\n      <td>no</td>\n      <td>telephone</td>\n      <td>may</td>\n      <td>mon</td>\n      <td>226</td>\n      <td>1</td>\n      <td>999</td>\n      <td>0</td>\n      <td>nonexistent</td>\n      <td>1.1</td>\n      <td>93.994</td>\n      <td>-36.4</td>\n      <td>4.857</td>\n      <td>5191.0</td>\n      <td>no</td>\n    </tr>\n    <tr>\n      <th>3</th>\n      <td>40</td>\n      <td>admin.</td>\n      <td>married</td>\n      <td>basic.6y</td>\n      <td>no</td>\n      <td>no</td>\n      <td>no</td>\n      <td>telephone</td>\n      <td>may</td>\n      <td>mon</td>\n      <td>151</td>\n      <td>1</td>\n      <td>999</td>\n      <td>0</td>\n      <td>nonexistent</td>\n      <td>1.1</td>\n      <td>93.994</td>\n      <td>-36.4</td>\n      <td>4.857</td>\n      <td>5191.0</td>\n      <td>no</td>\n    </tr>\n    <tr>\n      <th>4</th>\n      <td>56</td>\n      <td>services</td>\n      <td>married</td>\n      <td>high.school</td>\n      <td>no</td>\n      <td>no</td>\n      <td>yes</td>\n      <td>telephone</td>\n      <td>may</td>\n      <td>mon</td>\n      <td>307</td>\n      <td>1</td>\n      <td>999</td>\n      <td>0</td>\n      <td>nonexistent</td>\n      <td>1.1</td>\n      <td>93.994</td>\n      <td>-36.4</td>\n      <td>4.857</td>\n      <td>5191.0</td>\n      <td>no</td>\n    </tr>\n    <tr>\n      <th>...</th>\n      <td>...</td>\n      <td>...</td>\n      <td>...</td>\n      <td>...</td>\n      <td>...</td>\n      <td>...</td>\n      <td>...</td>\n      <td>...</td>\n      <td>...</td>\n      <td>...</td>\n      <td>...</td>\n      <td>...</td>\n      <td>...</td>\n      <td>...</td>\n      <td>...</td>\n      <td>...</td>\n      <td>...</td>\n      <td>...</td>\n      <td>...</td>\n      <td>...</td>\n      <td>...</td>\n    </tr>\n    <tr>\n      <th>41183</th>\n      <td>73</td>\n      <td>retired</td>\n      <td>married</td>\n      <td>professional.course</td>\n      <td>no</td>\n      <td>yes</td>\n      <td>no</td>\n      <td>cellular</td>\n      <td>nov</td>\n      <td>fri</td>\n      <td>334;1;999;0</td>\n      <td>nonexistent</td>\n      <td>-1.1;94.767;-50.8;1.028;4963.6</td>\n      <td>yes</td>\n      <td>NaN</td>\n      <td>NaN</td>\n      <td>NaN</td>\n      <td>NaN</td>\n      <td>NaN</td>\n      <td>NaN</td>\n      <td>NaN</td>\n    </tr>\n    <tr>\n      <th>41184</th>\n      <td>46</td>\n      <td>blue-collar</td>\n      <td>married</td>\n      <td>professional.course</td>\n      <td>no</td>\n      <td>no</td>\n      <td>no</td>\n      <td>cellular</td>\n      <td>nov</td>\n      <td>fri</td>\n      <td>383;1;999;0</td>\n      <td>nonexistent</td>\n      <td>-1.1;94.767;-50.8;1.028;4963.6</td>\n      <td>no</td>\n      <td>NaN</td>\n      <td>NaN</td>\n      <td>NaN</td>\n      <td>NaN</td>\n      <td>NaN</td>\n      <td>NaN</td>\n      <td>NaN</td>\n    </tr>\n    <tr>\n      <th>41185</th>\n      <td>56</td>\n      <td>retired</td>\n      <td>married</td>\n      <td>university.degree</td>\n      <td>no</td>\n      <td>yes</td>\n      <td>no</td>\n      <td>cellular</td>\n      <td>nov</td>\n      <td>fri</td>\n      <td>189;2;999;0</td>\n      <td>nonexistent</td>\n      <td>-1.1;94.767;-50.8;1.028;4963.6</td>\n      <td>no</td>\n      <td>NaN</td>\n      <td>NaN</td>\n      <td>NaN</td>\n      <td>NaN</td>\n      <td>NaN</td>\n      <td>NaN</td>\n      <td>NaN</td>\n    </tr>\n    <tr>\n      <th>41186</th>\n      <td>44</td>\n      <td>technician</td>\n      <td>married</td>\n      <td>professional.course</td>\n      <td>no</td>\n      <td>no</td>\n      <td>no</td>\n      <td>cellular</td>\n      <td>nov</td>\n      <td>fri</td>\n      <td>442;1;999;0</td>\n      <td>nonexistent</td>\n      <td>-1.1;94.767;-50.8;1.028;4963.6</td>\n      <td>yes</td>\n      <td>NaN</td>\n      <td>NaN</td>\n      <td>NaN</td>\n      <td>NaN</td>\n      <td>NaN</td>\n      <td>NaN</td>\n      <td>NaN</td>\n    </tr>\n    <tr>\n      <th>41187</th>\n      <td>74</td>\n      <td>retired</td>\n      <td>married</td>\n      <td>professional.course</td>\n      <td>no</td>\n      <td>yes</td>\n      <td>no</td>\n      <td>cellular</td>\n      <td>nov</td>\n      <td>fri</td>\n      <td>239;3;999;1</td>\n      <td>failure</td>\n      <td>-1.1;94.767;-50.8;1.028;4963.6</td>\n      <td>no</td>\n      <td>NaN</td>\n      <td>NaN</td>\n      <td>NaN</td>\n      <td>NaN</td>\n      <td>NaN</td>\n      <td>NaN</td>\n      <td>NaN</td>\n    </tr>\n  </tbody>\n</table>\n<p>41188 rows × 21 columns</p>\n</div>"
     },
     "execution_count": 24,
     "metadata": {},
     "output_type": "execute_result"
    }
   ],
   "source": [
    "df.head()\n",
    "df"
   ]
  },
  {
   "cell_type": "code",
   "execution_count": 25,
   "metadata": {},
   "outputs": [
    {
     "data": {
      "text/plain": "<Figure size 640x480 with 1 Axes>",
      "image/png": "[encoded data removed]"
     },
     "metadata": {},
     "output_type": "display_data"
    }
   ],
   "source": [
    "sns.stripplot(x=\"y\", y=\"age\", data=df, jitter=True)\n",
    "plt.show();"
   ]
  },
  {
   "cell_type": "code",
   "execution_count": 26,
   "metadata": {},
   "outputs": [
    {
     "data": {
      "text/plain": "<Figure size 640x480 with 1 Axes>",
      "image/png": "[encoded data removed]"
     },
     "metadata": {},
     "output_type": "display_data"
    }
   ],
   "source": [
    "sns.stripplot(x=\"y\", y=\"euribor3m\", data=df, jitter=True)\n",
    "plt.show();"
   ]
  },
  {
   "cell_type": "code",
   "execution_count": 27,
   "metadata": {},
   "outputs": [
    {
     "data": {
      "text/plain": "university.degree      12168\nhigh.school             9515\nbasic.9y                6045\nprofessional.course     5243\nbasic.4y                4176\nbasic.6y                2292\nunknown                 1731\nilliterate                18\nName: education, dtype: int64"
     },
     "execution_count": 27,
     "metadata": {},
     "output_type": "execute_result"
    }
   ],
   "source": [
    "df['education'].value_counts()"
   ]
  },
  {
   "cell_type": "code",
   "execution_count": 28,
   "metadata": {},
   "outputs": [
    {
     "data": {
      "text/plain": "admin.           10422\nblue-collar       9254\ntechnician        6743\nservices          3969\nmanagement        2924\nretired           1720\nentrepreneur      1456\nself-employed     1421\nhousemaid         1060\nunemployed        1014\nstudent            875\nunknown            330\nName: job, dtype: int64"
     },
     "execution_count": 28,
     "metadata": {},
     "output_type": "execute_result"
    }
   ],
   "source": [
    "df['job'].value_counts()"
   ]
  },
  {
   "cell_type": "code",
   "execution_count": 29,
   "metadata": {},
   "outputs": [
    {
     "data": {
      "text/plain": "array(['nonexistent', 'failure', 'success', nan], dtype=object)"
     },
     "execution_count": 29,
     "metadata": {},
     "output_type": "execute_result"
    }
   ],
   "source": [
    "df.poutcome.unique()"
   ]
  },
  {
   "cell_type": "code",
   "execution_count": 30,
   "metadata": {},
   "outputs": [],
   "source": [
    "def replace_education(education):\n",
    "    \"\"\"\n",
    "    This function codes the highest education attained.\n",
    "    \"\"\"\n",
    "    if education == 'university.degree':\n",
    "        return 8\n",
    "    elif education == 'professional.course':\n",
    "        return 7\n",
    "    elif education == 'high.school':\n",
    "        return 6\n",
    "    elif education == 'basic.9y':\n",
    "        return 5\n",
    "    elif education == 'basic.6y':\n",
    "        return 4\n",
    "    elif education =='basic.4y':\n",
    "        return 3\n",
    "    elif education == 'unknown':\n",
    "        return 2\n",
    "    elif education == 'illiterate':\n",
    "        return 1\n",
    "    \n",
    "def replace_job(job):\n",
    "    \"\"\"\n",
    "    This function codes the highest job earned.\n",
    "    \"\"\"\n",
    "    if job == 'management':\n",
    "        return 12\n",
    "    elif job == 'admin.':\n",
    "        return 11\n",
    "    elif job == 'entrepreneur':\n",
    "        return 10\n",
    "    elif job == 'technician':\n",
    "        return 9\n",
    "    elif job == 'services':\n",
    "        return 8\n",
    "    elif job == 'self-employed':\n",
    "        return 7\n",
    "    elif job == 'blue-collar':\n",
    "        return 6\n",
    "    elif job == 'retired':\n",
    "        return 5\n",
    "    elif job == 'housemaid':\n",
    "        return 4\n",
    "    elif job == 'unemployed':\n",
    "        return 3\n",
    "    elif job == 'unknown':\n",
    "        return 2\n",
    "    elif job == 'student':\n",
    "        return 1\n",
    "    \n",
    "def replace_marital(marital):\n",
    "    if marital == 'married':\n",
    "        return 4\n",
    "    elif marital == 'single':\n",
    "        return 3\n",
    "    elif marital == 'divorced':\n",
    "        return 2\n",
    "    elif marital == 'unknown':\n",
    "        return 1\n",
    "    \n",
    "def replace_default(default):\n",
    "    if default == 'no':\n",
    "        return 0\n",
    "    elif default == 'yes':\n",
    "        return 1\n",
    "    elif default == 'unknown':\n",
    "        return 2\n",
    "    \n",
    "def replace_housing(housing):\n",
    "    if housing == 'no':\n",
    "        return 0\n",
    "    elif housing == 'yes':\n",
    "        return 1\n",
    "    elif housing == 'unknown':\n",
    "        return 2\n",
    "\n",
    "def replace_loan(loan):\n",
    "    if loan == 'no':\n",
    "        return 0\n",
    "    elif loan == 'yes':\n",
    "        return 1\n",
    "    elif loan == 'unknown':\n",
    "        return 2\n",
    "    \n",
    "def replace_contact(contact):\n",
    "    if contact == 'cellular':\n",
    "        return 1\n",
    "    elif contact == 'telephone':\n",
    "        return 2\n",
    "    \n",
    "def replace_poutcome(poutcome):\n",
    "    if poutcome == 'failure':\n",
    "        return 0\n",
    "    elif poutcome == 'success':\n",
    "        return 1\n",
    "    elif poutcome == 'nonexistent':\n",
    "        return 2\n",
    "\n",
    "df['education'] = df['education'].apply(lambda x: replace_education(x))\n",
    "df['job'] = df['job'].apply(lambda x: replace_job(x))\n",
    "df['marital'] = df['marital'].apply(lambda x: replace_marital(x))\n",
    "df['default'] = df['default'].apply(lambda x: replace_default(x))\n",
    "df['housing'] = df['housing'].apply(lambda x: replace_housing(x))\n",
    "df['loan'] = df['loan'].apply(lambda x: replace_loan(x))\n",
    "df['contact'] = df['contact'].apply(lambda x: replace_contact(x))\n",
    "df['poutcome'] = df['poutcome'].apply(lambda x: replace_poutcome(x))"
   ]
  },
  {
   "cell_type": "code",
   "execution_count": 31,
   "metadata": {},
   "outputs": [],
   "source": [
    "look_up = {'aug': 8, 'nov': 11, 'jun': 6, 'apr': 4, 'jul': 7,\n",
    "            'may': 5, 'oct': 10, 'mar': 3, 'sep': 9, 'dec': 12}\n",
    "\n",
    "df['month'] = df['month'].apply(lambda x: look_up[x])"
   ]
  },
  {
   "cell_type": "code",
   "execution_count": 32,
   "metadata": {},
   "outputs": [],
   "source": [
    "look_up = {'thu': 4, 'fri': 5, 'tue': 2, 'mon': 1, 'wed': 3}\n",
    "\n",
    "df['day_of_week'] = df['day_of_week'].apply(lambda x: look_up[x])"
   ]
  },
  {
   "cell_type": "code",
   "execution_count": 33,
   "metadata": {},
   "outputs": [
    {
     "data": {
      "text/plain": "   age  job  marital  education  default  housing  loan  contact  month  \\\n0   56    4        4          3        0        0     0        2      5   \n1   57    8        4          6        2        0     0        2      5   \n2   37    8        4          6        0        1     0        2      5   \n\n   day_of_week duration campaign pdays previous  poutcome  emp.var.rate  \\\n0            1      261        1   999        0       2.0           1.1   \n1            1      149        1   999        0       2.0           1.1   \n2            1      226        1   999        0       2.0           1.1   \n\n   cons.price.idx  cons.conf.idx  euribor3m  nr.employed   y  \n0          93.994          -36.4      4.857       5191.0  no  \n1          93.994          -36.4      4.857       5191.0  no  \n2          93.994          -36.4      4.857       5191.0  no  ",
      "text/html": "<div>\n<style scoped>\n    .dataframe tbody tr th:only-of-type {\n        vertical-align: middle;\n    }\n\n    .dataframe tbody tr th {\n        vertical-align: top;\n    }\n\n    .dataframe thead th {\n        text-align: right;\n    }\n</style>\n<table border=\"1\" class=\"dataframe\">\n  <thead>\n    <tr style=\"text-align: right;\">\n      <th></th>\n      <th>age</th>\n      <th>job</th>\n      <th>marital</th>\n      <th>education</th>\n      <th>default</th>\n      <th>housing</th>\n      <th>loan</th>\n      <th>contact</th>\n      <th>month</th>\n      <th>day_of_week</th>\n      <th>duration</th>\n      <th>campaign</th>\n      <th>pdays</th>\n      <th>previous</th>\n      <th>poutcome</th>\n      <th>emp.var.rate</th>\n      <th>cons.price.idx</th>\n      <th>cons.conf.idx</th>\n      <th>euribor3m</th>\n      <th>nr.employed</th>\n      <th>y</th>\n    </tr>\n  </thead>\n  <tbody>\n    <tr>\n      <th>0</th>\n      <td>56</td>\n      <td>4</td>\n      <td>4</td>\n      <td>3</td>\n      <td>0</td>\n      <td>0</td>\n      <td>0</td>\n      <td>2</td>\n      <td>5</td>\n      <td>1</td>\n      <td>261</td>\n      <td>1</td>\n      <td>999</td>\n      <td>0</td>\n      <td>2.0</td>\n      <td>1.1</td>\n      <td>93.994</td>\n      <td>-36.4</td>\n      <td>4.857</td>\n      <td>5191.0</td>\n      <td>no</td>\n    </tr>\n    <tr>\n      <th>1</th>\n      <td>57</td>\n      <td>8</td>\n      <td>4</td>\n      <td>6</td>\n      <td>2</td>\n      <td>0</td>\n      <td>0</td>\n      <td>2</td>\n      <td>5</td>\n      <td>1</td>\n      <td>149</td>\n      <td>1</td>\n      <td>999</td>\n      <td>0</td>\n      <td>2.0</td>\n      <td>1.1</td>\n      <td>93.994</td>\n      <td>-36.4</td>\n      <td>4.857</td>\n      <td>5191.0</td>\n      <td>no</td>\n    </tr>\n    <tr>\n      <th>2</th>\n      <td>37</td>\n      <td>8</td>\n      <td>4</td>\n      <td>6</td>\n      <td>0</td>\n      <td>1</td>\n      <td>0</td>\n      <td>2</td>\n      <td>5</td>\n      <td>1</td>\n      <td>226</td>\n      <td>1</td>\n      <td>999</td>\n      <td>0</td>\n      <td>2.0</td>\n      <td>1.1</td>\n      <td>93.994</td>\n      <td>-36.4</td>\n      <td>4.857</td>\n      <td>5191.0</td>\n      <td>no</td>\n    </tr>\n  </tbody>\n</table>\n</div>"
     },
     "execution_count": 33,
     "metadata": {},
     "output_type": "execute_result"
    }
   ],
   "source": [
    "df.head(3)"
   ]
  },
  {
   "cell_type": "code",
   "execution_count": 34,
   "metadata": {},
   "outputs": [
    {
     "data": {
      "text/plain": "<Figure size 640x480 with 1 Axes>",
      "image/png": "[encoded data removed]"
     },
     "metadata": {},
     "output_type": "display_data"
    }
   ],
   "source": [
    "sns.stripplot(x=\"y\", y=\"education\", data=df, jitter=True)\n",
    "plt.show();"
   ]
  },
  {
   "cell_type": "code",
   "execution_count": 35,
   "metadata": {},
   "outputs": [
    {
     "data": {
      "text/plain": "<Figure size 640x480 with 1 Axes>",
      "image/png": "[encoded data removed]"
     },
     "metadata": {},
     "output_type": "display_data"
    }
   ],
   "source": [
    "sns.stripplot(x=\"y\", y=\"job\", data=df, jitter=True)\n",
    "plt.show();"
   ]
  },
  {
   "cell_type": "code",
   "execution_count": 36,
   "metadata": {},
   "outputs": [
    {
     "data": {
      "text/plain": "   age  job  marital  education  default  housing  loan  contact  month  \\\n0   56    4        4          3        0        0     0        2      5   \n1   57    8        4          6        2        0     0        2      5   \n2   37    8        4          6        0        1     0        2      5   \n\n   day_of_week duration campaign pdays previous  poutcome  emp.var.rate  \\\n0            1      261        1   999        0       2.0           1.1   \n1            1      149        1   999        0       2.0           1.1   \n2            1      226        1   999        0       2.0           1.1   \n\n   cons.price.idx  cons.conf.idx  euribor3m  nr.employed   y  \n0          93.994          -36.4      4.857       5191.0  no  \n1          93.994          -36.4      4.857       5191.0  no  \n2          93.994          -36.4      4.857       5191.0  no  ",
      "text/html": "<div>\n<style scoped>\n    .dataframe tbody tr th:only-of-type {\n        vertical-align: middle;\n    }\n\n    .dataframe tbody tr th {\n        vertical-align: top;\n    }\n\n    .dataframe thead th {\n        text-align: right;\n    }\n</style>\n<table border=\"1\" class=\"dataframe\">\n  <thead>\n    <tr style=\"text-align: right;\">\n      <th></th>\n      <th>age</th>\n      <th>job</th>\n      <th>marital</th>\n      <th>education</th>\n      <th>default</th>\n      <th>housing</th>\n      <th>loan</th>\n      <th>contact</th>\n      <th>month</th>\n      <th>day_of_week</th>\n      <th>duration</th>\n      <th>campaign</th>\n      <th>pdays</th>\n      <th>previous</th>\n      <th>poutcome</th>\n      <th>emp.var.rate</th>\n      <th>cons.price.idx</th>\n      <th>cons.conf.idx</th>\n      <th>euribor3m</th>\n      <th>nr.employed</th>\n      <th>y</th>\n    </tr>\n  </thead>\n  <tbody>\n    <tr>\n      <th>0</th>\n      <td>56</td>\n      <td>4</td>\n      <td>4</td>\n      <td>3</td>\n      <td>0</td>\n      <td>0</td>\n      <td>0</td>\n      <td>2</td>\n      <td>5</td>\n      <td>1</td>\n      <td>261</td>\n      <td>1</td>\n      <td>999</td>\n      <td>0</td>\n      <td>2.0</td>\n      <td>1.1</td>\n      <td>93.994</td>\n      <td>-36.4</td>\n      <td>4.857</td>\n      <td>5191.0</td>\n      <td>no</td>\n    </tr>\n    <tr>\n      <th>1</th>\n      <td>57</td>\n      <td>8</td>\n      <td>4</td>\n      <td>6</td>\n      <td>2</td>\n      <td>0</td>\n      <td>0</td>\n      <td>2</td>\n      <td>5</td>\n      <td>1</td>\n      <td>149</td>\n      <td>1</td>\n      <td>999</td>\n      <td>0</td>\n      <td>2.0</td>\n      <td>1.1</td>\n      <td>93.994</td>\n      <td>-36.4</td>\n      <td>4.857</td>\n      <td>5191.0</td>\n      <td>no</td>\n    </tr>\n    <tr>\n      <th>2</th>\n      <td>37</td>\n      <td>8</td>\n      <td>4</td>\n      <td>6</td>\n      <td>0</td>\n      <td>1</td>\n      <td>0</td>\n      <td>2</td>\n      <td>5</td>\n      <td>1</td>\n      <td>226</td>\n      <td>1</td>\n      <td>999</td>\n      <td>0</td>\n      <td>2.0</td>\n      <td>1.1</td>\n      <td>93.994</td>\n      <td>-36.4</td>\n      <td>4.857</td>\n      <td>5191.0</td>\n      <td>no</td>\n    </tr>\n  </tbody>\n</table>\n</div>"
     },
     "execution_count": 36,
     "metadata": {},
     "output_type": "execute_result"
    }
   ],
   "source": [
    "df.head(3)"
   ]
  },
  {
   "cell_type": "code",
   "execution_count": 37,
   "metadata": {},
   "outputs": [
    {
     "data": {
      "text/plain": "   age  job  marital  education  default  housing  loan  contact  month  \\\n0   56    4        4          3        0        0     0        2      5   \n1   57    8        4          6        2        0     0        2      5   \n2   37    8        4          6        0        1     0        2      5   \n\n   day_of_week duration campaign pdays previous  poutcome  emp.var.rate  \\\n0            1      261        1   999        0       2.0           1.1   \n1            1      149        1   999        0       2.0           1.1   \n2            1      226        1   999        0       2.0           1.1   \n\n   cons.price.idx  cons.conf.idx  euribor3m  nr.employed   y  \n0          93.994          -36.4      4.857       5191.0  no  \n1          93.994          -36.4      4.857       5191.0  no  \n2          93.994          -36.4      4.857       5191.0  no  ",
      "text/html": "<div>\n<style scoped>\n    .dataframe tbody tr th:only-of-type {\n        vertical-align: middle;\n    }\n\n    .dataframe tbody tr th {\n        vertical-align: top;\n    }\n\n    .dataframe thead th {\n        text-align: right;\n    }\n</style>\n<table border=\"1\" class=\"dataframe\">\n  <thead>\n    <tr style=\"text-align: right;\">\n      <th></th>\n      <th>age</th>\n      <th>job</th>\n      <th>marital</th>\n      <th>education</th>\n      <th>default</th>\n      <th>housing</th>\n      <th>loan</th>\n      <th>contact</th>\n      <th>month</th>\n      <th>day_of_week</th>\n      <th>duration</th>\n      <th>campaign</th>\n      <th>pdays</th>\n      <th>previous</th>\n      <th>poutcome</th>\n      <th>emp.var.rate</th>\n      <th>cons.price.idx</th>\n      <th>cons.conf.idx</th>\n      <th>euribor3m</th>\n      <th>nr.employed</th>\n      <th>y</th>\n    </tr>\n  </thead>\n  <tbody>\n    <tr>\n      <th>0</th>\n      <td>56</td>\n      <td>4</td>\n      <td>4</td>\n      <td>3</td>\n      <td>0</td>\n      <td>0</td>\n      <td>0</td>\n      <td>2</td>\n      <td>5</td>\n      <td>1</td>\n      <td>261</td>\n      <td>1</td>\n      <td>999</td>\n      <td>0</td>\n      <td>2.0</td>\n      <td>1.1</td>\n      <td>93.994</td>\n      <td>-36.4</td>\n      <td>4.857</td>\n      <td>5191.0</td>\n      <td>no</td>\n    </tr>\n    <tr>\n      <th>1</th>\n      <td>57</td>\n      <td>8</td>\n      <td>4</td>\n      <td>6</td>\n      <td>2</td>\n      <td>0</td>\n      <td>0</td>\n      <td>2</td>\n      <td>5</td>\n      <td>1</td>\n      <td>149</td>\n      <td>1</td>\n      <td>999</td>\n      <td>0</td>\n      <td>2.0</td>\n      <td>1.1</td>\n      <td>93.994</td>\n      <td>-36.4</td>\n      <td>4.857</td>\n      <td>5191.0</td>\n      <td>no</td>\n    </tr>\n    <tr>\n      <th>2</th>\n      <td>37</td>\n      <td>8</td>\n      <td>4</td>\n      <td>6</td>\n      <td>0</td>\n      <td>1</td>\n      <td>0</td>\n      <td>2</td>\n      <td>5</td>\n      <td>1</td>\n      <td>226</td>\n      <td>1</td>\n      <td>999</td>\n      <td>0</td>\n      <td>2.0</td>\n      <td>1.1</td>\n      <td>93.994</td>\n      <td>-36.4</td>\n      <td>4.857</td>\n      <td>5191.0</td>\n      <td>no</td>\n    </tr>\n  </tbody>\n</table>\n</div>"
     },
     "execution_count": 37,
     "metadata": {},
     "output_type": "execute_result"
    }
   ],
   "source": [
    "outcome = df['y']\n",
    "data = df[['age', 'job', 'marital', 'education', 'default', 'housing', 'loan', 'contact', 'month', 'day_of_week', 'duration', 'campaign', 'pdays', 'previous', 'poutcome', 'euribor3m']]\n",
    "data['outcome'] = outcome\n",
    "df.head(3)\n",
    "# data.corr()['outcome'].sort_values(ascending=False)"
   ]
  },
  {
   "cell_type": "markdown",
   "metadata": {},
   "source": [
    "## Logistic Regression with one independent variable"
   ]
  },
  {
   "cell_type": "code",
   "execution_count": 38,
   "metadata": {},
   "outputs": [
    {
     "name": "stdout",
     "output_type": "stream",
     "text": [
      "[261 149 226 ... '189;2;999;0' '442;1;999;0' '239;3;999;1']\n"
     ]
    },
    {
     "ename": "TypeError",
     "evalue": "unsupported operand type(s) for +: 'int' and 'str'",
     "output_type": "error",
     "traceback": [
      "\u001B[1;31m---------------------------------------------------------------------------\u001B[0m",
      "\u001B[1;31mTypeError\u001B[0m                                 Traceback (most recent call last)",
      "Cell \u001B[1;32mIn [38], line 5\u001B[0m\n\u001B[0;32m      3\u001B[0m x_0 \u001B[38;5;241m=\u001B[39m data[x_n]\u001B[38;5;241m.\u001B[39mvalues\n\u001B[0;32m      4\u001B[0m \u001B[38;5;28mprint\u001B[39m(x_0)\n\u001B[1;32m----> 5\u001B[0m x_c \u001B[38;5;241m=\u001B[39m x_0 \u001B[38;5;241m-\u001B[39m \u001B[43mx_0\u001B[49m\u001B[38;5;241;43m.\u001B[39;49m\u001B[43mmean\u001B[49m\u001B[43m(\u001B[49m\u001B[43m)\u001B[49m\n\u001B[0;32m      7\u001B[0m \u001B[38;5;28;01mwith\u001B[39;00m pm\u001B[38;5;241m.\u001B[39mModel() \u001B[38;5;28;01mas\u001B[39;00m model_simple:\n\u001B[0;32m      8\u001B[0m     α \u001B[38;5;241m=\u001B[39m pm\u001B[38;5;241m.\u001B[39mNormal(\u001B[38;5;124m'\u001B[39m\u001B[38;5;124mα\u001B[39m\u001B[38;5;124m'\u001B[39m, mu\u001B[38;5;241m=\u001B[39m\u001B[38;5;241m0\u001B[39m, sd\u001B[38;5;241m=\u001B[39m\u001B[38;5;241m10\u001B[39m)\n",
      "File \u001B[1;32mD:\\collage_documents\\Engineering\\sem5\\CP\\venv\\lib\\site-packages\\numpy\\core\\_methods.py:179\u001B[0m, in \u001B[0;36m_mean\u001B[1;34m(a, axis, dtype, out, keepdims, where)\u001B[0m\n\u001B[0;32m    176\u001B[0m         dtype \u001B[38;5;241m=\u001B[39m mu\u001B[38;5;241m.\u001B[39mdtype(\u001B[38;5;124m'\u001B[39m\u001B[38;5;124mf4\u001B[39m\u001B[38;5;124m'\u001B[39m)\n\u001B[0;32m    177\u001B[0m         is_float16_result \u001B[38;5;241m=\u001B[39m \u001B[38;5;28;01mTrue\u001B[39;00m\n\u001B[1;32m--> 179\u001B[0m ret \u001B[38;5;241m=\u001B[39m \u001B[43mumr_sum\u001B[49m\u001B[43m(\u001B[49m\u001B[43marr\u001B[49m\u001B[43m,\u001B[49m\u001B[43m \u001B[49m\u001B[43maxis\u001B[49m\u001B[43m,\u001B[49m\u001B[43m \u001B[49m\u001B[43mdtype\u001B[49m\u001B[43m,\u001B[49m\u001B[43m \u001B[49m\u001B[43mout\u001B[49m\u001B[43m,\u001B[49m\u001B[43m \u001B[49m\u001B[43mkeepdims\u001B[49m\u001B[43m,\u001B[49m\u001B[43m \u001B[49m\u001B[43mwhere\u001B[49m\u001B[38;5;241;43m=\u001B[39;49m\u001B[43mwhere\u001B[49m\u001B[43m)\u001B[49m\n\u001B[0;32m    180\u001B[0m \u001B[38;5;28;01mif\u001B[39;00m \u001B[38;5;28misinstance\u001B[39m(ret, mu\u001B[38;5;241m.\u001B[39mndarray):\n\u001B[0;32m    181\u001B[0m     ret \u001B[38;5;241m=\u001B[39m um\u001B[38;5;241m.\u001B[39mtrue_divide(\n\u001B[0;32m    182\u001B[0m             ret, rcount, out\u001B[38;5;241m=\u001B[39mret, casting\u001B[38;5;241m=\u001B[39m\u001B[38;5;124m'\u001B[39m\u001B[38;5;124munsafe\u001B[39m\u001B[38;5;124m'\u001B[39m, subok\u001B[38;5;241m=\u001B[39m\u001B[38;5;28;01mFalse\u001B[39;00m)\n",
      "\u001B[1;31mTypeError\u001B[0m: unsupported operand type(s) for +: 'int' and 'str'"
     ]
    }
   ],
   "source": [
    "y_simple = data['outcome']\n",
    "x_n = 'duration' \n",
    "x_0 = data[x_n].values\n",
    "print(x_0)\n",
    "x_c = x_0 - x_0.mean()\n",
    "\n",
    "with pm.Model() as model_simple:\n",
    "    α = pm.Normal('α', mu=0, sd=10)\n",
    "    β = pm.Normal('β', mu=0, sd=10)\n",
    "\n",
    "    μ = α + pm.math.dot(x_c, β)\n",
    "    θ = pm.Deterministic('θ', pm.math.sigmoid(μ))\n",
    "    bd = pm.Deterministic('bd', -α/β)\n",
    "\n",
    "    y_1 = pm.Bernoulli('y_1', p=θ, observed=y_simple)\n",
    "\n",
    "    trace_simple = pm.sample(1000, tune=1000)"
   ]
  },
  {
   "cell_type": "code",
   "execution_count": null,
   "metadata": {},
   "outputs": [],
   "source": [
    "theta = trace_simple['θ'].mean(axis=0)\n",
    "idx = np.argsort(x_c)\n",
    "plt.plot(x_c[idx], theta[idx], color='C2', lw=3)\n",
    "plt.vlines(trace_simple['bd'].mean(), 0, 1, color='k')\n",
    "bd_hpd = az.hpd(trace_simple['bd'])\n",
    "plt.fill_betweenx([0, 1], bd_hpd[0], bd_hpd[1], color='k', alpha=0.5)\n",
    "\n",
    "plt.scatter(x_c, np.random.normal(y_simple, 0.02),\n",
    "            marker='.', color=[f'C{x}' for x in y_simple])\n",
    "az.plot_hpd(x_c, trace_simple['θ'], color='C2')\n",
    "\n",
    "plt.xlabel(x_n)\n",
    "plt.ylabel('θ', rotation=0)\n",
    "locs, _ = plt.xticks()\n",
    "plt.xticks(locs, np.round(locs + x_0.mean(), 1));"
   ]
  },
  {
   "cell_type": "code",
   "execution_count": null,
   "metadata": {},
   "outputs": [],
   "source": [
    "az.summary(trace_simple, var_names=['α', 'β'])"
   ]
  },
  {
   "cell_type": "code",
   "execution_count": null,
   "metadata": {},
   "outputs": [],
   "source": [
    "ppc = pm.sample_ppc(trace_simple, model=model_simple, samples=500)\n",
    "preds = np.rint(ppc['y_1'].mean(axis=0)).astype('int')"
   ]
  },
  {
   "cell_type": "code",
   "execution_count": null,
   "metadata": {},
   "outputs": [],
   "source": [
    "print('Accuracy of the simplest model:', accuracy_score(preds, data['outcome']))\n",
    "print('f1 score of the simplest model:', f1_score(preds, data['outcome']))"
   ]
  },
  {
   "cell_type": "code",
   "execution_count": null,
   "metadata": {},
   "outputs": [],
   "source": [
    "outcome.value_counts()"
   ]
  },
  {
   "cell_type": "code",
   "execution_count": null,
   "metadata": {},
   "outputs": [],
   "source": [
    "plt.figure(figsize=(15, 15))\n",
    "corr = data.corr() \n",
    "mask = np.tri(*corr.shape).T \n",
    "sns.heatmap(corr.abs(), mask=mask, annot=True, cmap='viridis');"
   ]
  },
  {
   "cell_type": "markdown",
   "metadata": {},
   "source": []
  },
  {
   "cell_type": "code",
   "execution_count": null,
   "metadata": {},
   "outputs": [],
   "source": [
    "# Scale age by 10, it helps with model convergence.\n",
    "data['age'] = data['age'] / 10\n",
    "data['age2'] = np.square(data['age'])"
   ]
  },
  {
   "cell_type": "markdown",
   "metadata": {},
   "source": [
    "## Define model using PyMC3 GLM method\n",
    "\n",
    "PyMC3 has a module - glm - for defining models using a patsy-style formula syntax. This seems really useful, especially for defining models in fewer lines of code."
   ]
  },
  {
   "cell_type": "code",
   "execution_count": null,
   "metadata": {},
   "outputs": [],
   "source": [
    "with pm.Model() as logistic_model:\n",
    "    pm.glm.GLM.from_formula('outcome ~ age + age2 + job + marital + education + default + housing + loan + contact + month + day_of_week + duration + campaign + pdays + previous + euribor3m', data, family = pm.glm.families.Binomial())\n",
    "    trace = pm.sample(1000, tune = 1000, init = 'adapt_diag')"
   ]
  },
  {
   "cell_type": "code",
   "execution_count": null,
   "metadata": {
    "scrolled": false
   },
   "outputs": [],
   "source": [
    "az.plot_trace(trace);"
   ]
  },
  {
   "cell_type": "markdown",
   "metadata": {},
   "source": [
    "Each curve shows how the probability of subscribing a term deposit changes with age, given this customer is married.\n",
    "\n",
    "The red curve represents university degree, the green curve represents and basic.9y education, the blue curve represents illiterate. For all three education levels, the probability of subscribing a term deposit decreases with age until approximately age 40, when the probability begins to increase. Notice that every curve is blurry. This is because we are actually plotting 100 different curves for each level of education. Each curve is a draw from our posterior distribution. "
   ]
  },
  {
   "cell_type": "code",
   "execution_count": null,
   "metadata": {},
   "outputs": [],
   "source": [
    "def lm_full(trace, age, education, marital):\n",
    "    shape = np.broadcast(age, education, marital).shape\n",
    "    x_norm = np.asarray([np.broadcast_to(x, shape) for x in [age/10., education, marital]])\n",
    "    \n",
    "    return 1 / (1 + np.exp(-(trace['Intercept'] + \n",
    "                             trace['age']*x_norm[0] + \n",
    "                             trace['age2']*(x_norm[0]**2) +\n",
    "                             trace['education']*x_norm[1] +\n",
    "                             trace['marital']*x_norm[2])))\n",
    "\n",
    "lm = lambda x, samples: lm_full(samples, x, 1., 4.)\n",
    "lm2 = lambda x, samples: lm_full(samples, x, 5., 4.)\n",
    "lm3 = lambda x, samples: lm_full(samples, x, 8., 4.)"
   ]
  },
  {
   "cell_type": "code",
   "execution_count": null,
   "metadata": {},
   "outputs": [],
   "source": [
    "pm.plot_posterior_predictive_glm(trace, eval=np.linspace(25,75,1000), lm=lm, samples=100, color='blue', alpha=.8)\n",
    "pm.plot_posterior_predictive_glm(trace, eval=np.linspace(25,75,1000), lm=lm2, samples=100, color='green', alpha=.8)\n",
    "pm.plot_posterior_predictive_glm(trace, eval=np.linspace(25,75,1000), lm=lm3, samples=100, color='red', alpha=.8)\n",
    "\n",
    "blue_line = mlines.Line2D(['lm'], [], color='b', label='illiterate')\n",
    "green_line = mlines.Line2D(['lm2'], [], color='g', label='basic.9y') \n",
    "red_line = mlines.Line2D(['lm3'], [], color='r', label='university.degree')\n",
    "plt.legend(handles=[blue_line, green_line, red_line], loc='lower right')\n",
    "plt.ylabel(\"P(Outcome = Yes)\")\n",
    "plt.xlabel(\"Age\")\n",
    "plt.show();"
   ]
  },
  {
   "cell_type": "markdown",
   "metadata": {},
   "source": [
    "## Estimate Odds Ratio"
   ]
  },
  {
   "cell_type": "code",
   "execution_count": null,
   "metadata": {},
   "outputs": [],
   "source": [
    "b = trace['education']\n",
    "plt.hist(np.exp(b), bins=20, normed=True)\n",
    "plt.xlabel(\"Odds Ratio\")\n",
    "plt.show();"
   ]
  },
  {
   "cell_type": "code",
   "execution_count": null,
   "metadata": {},
   "outputs": [],
   "source": [
    "lb, ub = np.percentile(b, 2.5), np.percentile(b, 97.5)\n",
    "print(\"P(%.3f < Odds Ratio < %.3f) = 0.95\" % (np.exp(lb), np.exp(ub)))"
   ]
  },
  {
   "cell_type": "markdown",
   "metadata": {},
   "source": [
    "We can interpret something along those lines: \"With probability 0.95 the odds ratio is greater than 1.055 and less than 1.108, so the education effect takes place because a person with a higher education level has at least 1.055  higher probability to subscribe to a term deposit than a person with a lower education level, while holding all the other variables constant.\""
   ]
  },
  {
   "cell_type": "markdown",
   "metadata": {},
   "source": [
    "Compute odds ratio and percentage effect for all the variables."
   ]
  },
  {
   "cell_type": "code",
   "execution_count": null,
   "metadata": {},
   "outputs": [],
   "source": [
    "stat_df = pm.summary(trace)\n",
    "stat_df['odds_ratio'] = np.exp(stat_df['mean'])\n",
    "stat_df['percentage_effect'] = 100 * (stat_df['odds_ratio'] - 1)\n",
    "stat_df"
   ]
  },
  {
   "cell_type": "markdown",
   "metadata": {},
   "source": [
    "with a one unit increase in education, the odds of subscribing to a term deposit increases by 8%. Similarly, for a one unit increase in euribor3m, the odds of subscribing to a term deposit decreases by 43%. holding all other independent variables constant."
   ]
  },
  {
   "cell_type": "markdown",
   "metadata": {},
   "source": [
    "## Credible Interval"
   ]
  },
  {
   "cell_type": "code",
   "execution_count": null,
   "metadata": {},
   "outputs": [],
   "source": [
    "az.plot_forest(trace);"
   ]
  },
  {
   "cell_type": "markdown",
   "metadata": {},
   "source": [
    "There's a baseline probability of subscribing a term deposit. Beyond that, age has the biggest effect on subscribing."
   ]
  },
  {
   "cell_type": "code",
   "execution_count": null,
   "metadata": {},
   "outputs": [],
   "source": [
    "pm.plot_posterior(trace);"
   ]
  },
  {
   "cell_type": "markdown",
   "metadata": {},
   "source": [
    "## Compare models using Widely-applicable Information Criterion (WAIC)"
   ]
  },
  {
   "cell_type": "code",
   "execution_count": null,
   "metadata": {},
   "outputs": [],
   "source": [
    "def run_models(df, upper_order=5):\n",
    "    '''\n",
    "    Convenience function:\n",
    "    Fit a range of pymc3 models of increasing polynomial complexity.\n",
    "    Suggest limit to max order 5 since calculation time is exponential.\n",
    "    '''\n",
    "\n",
    "    models, traces = OrderedDict(), OrderedDict()\n",
    "\n",
    "    for k in range(1,upper_order+1):\n",
    "\n",
    "        nm = 'k{}'.format(k)\n",
    "        fml = create_poly_modelspec(k)\n",
    "\n",
    "        with pm.Model() as models[nm]:\n",
    "\n",
    "            print('\\nRunning: {}'.format(nm))\n",
    "            pm.glm.GLM.from_formula(fml, df,\n",
    "                                    family=pm.glm.families.Binomial())\n",
    "\n",
    "            traces[nm] = pm.sample(1000, tune=1000, init='adapt_diag')\n",
    "\n",
    "    return models, traces\n",
    "\n",
    "def create_poly_modelspec(k=1):\n",
    "    '''\n",
    "    Convenience function:\n",
    "    Create a polynomial modelspec string for patsy\n",
    "    '''\n",
    "    return ('outcome ~ age + job + marital + education + default + housing + loan + contact + month + day_of_week + duration + campaign + pdays + previous + euribor3m ' + ' '.join(['+ np.power(age,{})'.format(j)\n",
    "                                     for j in range(2,k+1)])).strip()\n",
    "\n",
    "models_lin, traces_lin = run_models(data, 3)"
   ]
  },
  {
   "cell_type": "code",
   "execution_count": null,
   "metadata": {},
   "outputs": [],
   "source": [
    "model_trace_dict = dict()\n",
    "for nm in ['k1', 'k2', 'k3']:\n",
    "    models_lin[nm].name = nm\n",
    "    model_trace_dict.update({models_lin[nm]: traces_lin[nm]})\n",
    "\n",
    "dfwaic = pm.compare(model_trace_dict, ic='WAIC')\n",
    "print(dfwaic)\n",
    "pm.compareplot(dfwaic);"
   ]
  },
  {
   "cell_type": "code",
   "execution_count": null,
   "metadata": {},
   "outputs": [],
   "source": [
    "dfwaic"
   ]
  },
  {
   "cell_type": "markdown",
   "metadata": {},
   "source": [
    "## Posterior predictive check\n",
    "\n",
    "We are going to calculate the metrics using the mean value of the parameters as a \"most likely\" estimate."
   ]
  },
  {
   "cell_type": "code",
   "execution_count": null,
   "metadata": {},
   "outputs": [],
   "source": [
    "ppc = pm.sample_ppc(trace, model=logistic_model, samples=500)"
   ]
  },
  {
   "cell_type": "code",
   "execution_count": null,
   "metadata": {},
   "outputs": [],
   "source": [
    "ppc['y'].mean(axis=0)"
   ]
  },
  {
   "cell_type": "code",
   "execution_count": null,
   "metadata": {},
   "outputs": [],
   "source": [
    "preds = np.rint(ppc['y'].mean(axis=0)).astype('int')"
   ]
  },
  {
   "cell_type": "code",
   "execution_count": null,
   "metadata": {},
   "outputs": [],
   "source": [
    "def plot_confusion_matrix(cm, classes = ['Not subscribe', 'Subscribe'],\n",
    "                          title='Subscription Confusion matrix',\n",
    "                          cmap=plt.cm.Reds):\n",
    "    \n",
    "    # Display the matrix in text form\n",
    "    print('Confusion matrix')\n",
    "    print(cm)\n",
    "    figsize(8, 8)\n",
    "    \n",
    "    # Show the matrix using the imshow functionality\n",
    "    plt.imshow(cm, interpolation='nearest', cmap=cmap)\n",
    "    plt.title(title, size = 20)\n",
    "    \n",
    "    # Tick marks show classes\n",
    "    tick_marks = np.arange(len(classes))\n",
    "    plt.xticks(tick_marks, classes, rotation=45, size = 12)\n",
    "    plt.yticks(tick_marks, classes, rotation = 90, size = 12)\n",
    "\n",
    "    # Formatting for text labels on plot\n",
    "    fmt1 = 's'\n",
    "    fmt2 = 'd'\n",
    "    thresh = cm.max() / 2.\n",
    "    \n",
    "    # Four types of classifications\n",
    "    types = [['True Negative', 'False Positive'],\n",
    "             ['False Negative', 'True Positive']]\n",
    "    \n",
    "    # Add the actual numbers and the types onto the heatmap plot\n",
    "    for i, j in itertools.product(range(cm.shape[0]), range(cm.shape[1])):\n",
    "        plt.text(j, i - 0.05, format(types[i][j], fmt1),\n",
    "                 horizontalalignment=\"center\", size = 18,\n",
    "                 color=\"white\" if cm[i, j] > thresh else \"black\")\n",
    "        \n",
    "        plt.text(j, i + 0.15, format(cm[i, j], fmt2),\n",
    "                 horizontalalignment=\"center\", size = 24,\n",
    "                 color=\"white\" if cm[i, j] > thresh else \"black\")\n",
    "\n",
    "    plt.tight_layout()\n",
    "    plt.ylabel('True label', size = 16)\n",
    "    plt.xlabel('Predicted Label', size = 16)"
   ]
  },
  {
   "cell_type": "code",
   "execution_count": null,
   "metadata": {},
   "outputs": [],
   "source": [
    "cm = confusion_matrix(data['outcome'], preds)\n",
    "plot_confusion_matrix(cm)"
   ]
  },
  {
   "cell_type": "code",
   "execution_count": null,
   "metadata": {},
   "outputs": [],
   "source": [
    "print('Accuracy of the full model: ', accuracy_score(preds, data['outcome']))\n",
    "print('f1 score of the full model: ', f1_score(preds, data['outcome']))"
   ]
  },
  {
   "cell_type": "code",
   "execution_count": null,
   "metadata": {},
   "outputs": [],
   "source": []
  }
 ],
 "metadata": {
  "kernelspec": {
   "display_name": "Python 3",
   "language": "python",
   "name": "python3"
  },
  "language_info": {
   "codemirror_mode": {
    "name": "ipython",
    "version": 3
   },
   "file_extension": ".py",
   "mimetype": "text/x-python",
   "name": "python",
   "nbconvert_exporter": "python",
   "pygments_lexer": "ipython3",
   "version": "3.6.7"
  }
 },
 "nbformat": 4,
 "nbformat_minor": 2
}
